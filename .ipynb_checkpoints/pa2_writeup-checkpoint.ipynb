{
 "cells": [
  {
   "cell_type": "code",
   "execution_count": 38,
   "metadata": {
    "collapsed": false
   },
   "outputs": [
    {
     "data": {
      "text/html": [
       "<script>jQuery(function() {if (jQuery(\"body.notebook_app\").length == 0) { jQuery(\".input_area\").toggle(); jQuery(\".prompt\").toggle();}});</script>"
      ]
     },
     "metadata": {},
     "output_type": "display_data"
    }
   ],
   "source": [
    "import IPython.core.display as di\n",
    "\n",
    "from IPython.core.display import HTML\n",
    "HTML(\"<style>.container { width:10% !important; }</style>\")\n",
    "\n",
    "# This line will hide code by default when the notebook is exported as HTML\n",
    "di.display_html('<script>jQuery(function() {if (jQuery(\"body.notebook_app\").length == 0) { jQuery(\".input_area\").toggle(); jQuery(\".prompt\").toggle();}});</script>', raw=True)"
   ]
  },
  {
   "cell_type": "code",
   "execution_count": 46,
   "metadata": {
    "collapsed": false
   },
   "outputs": [
    {
     "name": "stdout",
     "output_type": "stream",
     "text": [
      "Usage: python workflow.py training_file\n"
     ]
    },
    {
     "ename": "SystemExit",
     "evalue": "",
     "output_type": "error",
     "traceback": [
      "An exception has occurred, use %tb to see the full traceback.\n",
      "\u001b[0;31mSystemExit\u001b[0m\n"
     ]
    },
    {
     "name": "stderr",
     "output_type": "stream",
     "text": [
      "To exit: use 'exit', 'quit', or Ctrl-D.\n"
     ]
    }
   ],
   "source": [
    "# %load workflow.py\n",
    "import pandas as pd\n",
    "pd.options.mode.chained_assignment = None  # default='warn'\n",
    "import numpy as np \n",
    "import matplotlib.pyplot as plt\n",
    "import pylab\n",
    "import sys\n",
    "import random\n",
    "from sklearn.linear_model import LogisticRegression\n",
    "from sklearn.metrics import accuracy_score\n",
    "from sklearn.cross_validation import train_test_split\n",
    "from sklearn.preprocessing import StandardScaler\n",
    "\n",
    "plt.rcParams[\"figure.figsize\"] = [18.0, 8.0]\n",
    "\n",
    "def read_data(file_name):\n",
    "    '''\n",
    "    Read in data and return a pandas df\n",
    "    '''\n",
    "    return pd.read_csv(file_name, header=0)\n",
    "\n",
    "def print_statistics(data):\n",
    "    '''\n",
    "    Given a pandas dataframe, print dataframe statistics, correlation, and missing data.\n",
    "    '''\n",
    "    pd.set_option('display.width', 20)\n",
    "    print '**** column names:  ', \"\\n\", data.columns.values\n",
    "    print '**** top of the data: ', \"\\n\",  data.head()\n",
    "    print '**** dataframe shape: ', \"\\n\", data.shape\n",
    "    print '**** statistics: ', \"\\n\", data.describe(include='all')\n",
    "    print '**** MODE: ', \"\\n\", data.mode()\n",
    "    print '**** sum of null values by column: ', \"\\n\", data.isnull().sum()\n",
    "    print '**** correlation matrix: ', \"\\n\", data.corr()\n",
    "\n",
    "def print_value_counts(data, col):\n",
    "    '''\n",
    "    For a given column in the data, print the counts \n",
    "    of the column's values.\n",
    "    '''\n",
    "    print pd.value_counts(data[col])\n",
    "\n",
    "def visualize_all(data):\n",
    "    '''\n",
    "    Given a pandas dataframe, save a figure of dataframe column plots.\n",
    "    '''\n",
    "\n",
    "    data.hist()\n",
    "    plt.savefig('all_data_hist.png')\n",
    "\n",
    "def visualize_by_group_mean(data, cols, group_by_col):\n",
    "\n",
    "    '''\n",
    "    Given a dataframe, an array of columns and a column to group by,\n",
    "    generate a plot of these grouped columns with mean of the group\n",
    "    '''\n",
    "\n",
    "    data[cols].groupby(group_by_col).mean().plot()\n",
    "    file_name = 'viz_by_' + group_by_col + '.png'\n",
    "    plt.savefig(file_name)\n",
    "\n",
    "\n",
    "def impute_missing_all(data):\n",
    "    '''\n",
    "    Find all columns with missing data and impute with the column's \n",
    "    mean.\n",
    "\n",
    "    To impute specific columns, use impute_missing_column.\n",
    "    '''\n",
    "\n",
    "    headers = list(data.columns)\n",
    "    for name in headers:\n",
    "        if data[name].isnull().values.any():\n",
    "            data[name] = data[name].fillna(data[name].mean())\n",
    "\n",
    "    assert not data.isnull().values.any()\n",
    "\n",
    "def impute_missing_column(data, columns, method):\n",
    "    '''\n",
    "    Given a list of specific data columns, impute missing\n",
    "    data of those columns with the column's mean, median, or mode.\n",
    "\n",
    "    This function imputes specific columsn, for imputing all\n",
    "    columns of the dataset that have missing data, use\n",
    "    impute_missing_all.\n",
    "    '''\n",
    "\n",
    "    for col in columns:\n",
    "        if method == 'median':\n",
    "            data[col] = data[col].fillna(data[col].median())\n",
    "        elif method == 'mode':\n",
    "            data[col] = data[col].fillna(int(data[col].mode()[0]))\n",
    "        else:\n",
    "            data[col] = data[col].fillna(data[col].mean())\n",
    "\n",
    "def log_column(data, column):\n",
    "    '''\n",
    "    Log the values of a column.\n",
    "\n",
    "    Good to use when working with income data\n",
    "\n",
    "    Returns the name of the new column to include programmatically in list of features\n",
    "    '''\n",
    "\n",
    "    log_col = 'log_' + str(column)\n",
    "    data[log_col] = data[column].apply(lambda x: np.log(x + 1))\n",
    "\n",
    "    return log_col\n",
    "\n",
    "def create_bins(data, column, bins, verbose=False):\n",
    "    '''\n",
    "    Given a continuous variable, create a new column in the dataframe\n",
    "    that represents the bin in which the continuous variable falls into.\n",
    "\n",
    "    If verbose is True, print the value counts of each bin.\n",
    "\n",
    "    Returns the name of the new column to include programmatically in list of features\n",
    "\n",
    "    '''\n",
    "    new_col = 'bins_' + str(column)\n",
    "\n",
    "    data[new_col] = pd.cut(data[column], bins=bins)\n",
    "\n",
    "    if verbose:\n",
    "        print pd.value_counts(data[new_col])\n",
    "\n",
    "    return new_col\n",
    "\n",
    "def convert_to_binary(data, column, zero_string):\n",
    "    '''\n",
    "    Given a binary categorical variable, such as a gender column with\n",
    "    male and female, convert data to 0 for zero_string and 1 otherwise\n",
    "\n",
    "    Provide the string of the forthcoming 0 value, such as 'male', \"MALE\", or 'Male\"\n",
    "    '''\n",
    "\n",
    "    data[column] = data[column].apply(lambda x: 0 if sex == zero_string else 1)\n",
    "\n",
    "def scale_column(data, column):\n",
    "    '''\n",
    "    Given data and a specific column, apply a scale transformation to the column\n",
    "\n",
    "    Returns the name of the new column to include programmatically in list of features\n",
    "\n",
    "    '''\n",
    "\n",
    "    scaled_col = 'scaled_' + str(column)\n",
    "    data[scaled_col] = StandardScaler().fit_transform(data[column])\n",
    "\n",
    "    return scaled_col\n",
    "\n",
    "def model_logistic(training_data, test_data, features, label):\n",
    "\n",
    "    '''\n",
    "    With training and testing data and the data's features and label,\n",
    "    fit a logistic regression model and return predicted values on the test data.\n",
    "\n",
    "    '''\n",
    "    \n",
    "    model = LogisticRegression()\n",
    "    model.fit(training_data[features], training_data[label])\n",
    "    predicted = model.predict(test_data[features])\n",
    "    return predicted\n",
    "\n",
    "def evaluate_model(test_data, label, predicted_values):\n",
    "    '''\n",
    "    Compare the label of the test data to predicted values\n",
    "    and return an accuracy score.\n",
    "    '''\n",
    "    return accuracy_score(predicted_values, test_data[label]) \n",
    "\n",
    "def go(training_file):\n",
    "    '''\n",
    "    Run functions for specific data file\n",
    "    '''\n",
    "    \n",
    "    df = read_data(training_file)\n",
    "\n",
    "    #print_statistics(df)\n",
    "    #visualize_all(df)\n",
    "\n",
    "    # I'm imputting num dependents with 0 bc its the mode\n",
    "    impute_missing_column(df, ['NumberOfDependents'], 'mode')\n",
    "\n",
    "    # impute MonthlyIncome with median\n",
    "    impute_missing_column(df, ['MonthlyIncome'], 'mean')\n",
    "    #df['MonthlyIncome'] = df['MonthlyIncome'].fillna(int(df['MonthlyIncome'].median()))\n",
    "\n",
    "    # print 'dataframe has no null values?:', not df.isnull().values.any()\n",
    "    # print df.isnull().sum()\n",
    "\n",
    "    #log income\n",
    "    new_log_col = log_column(df, 'MonthlyIncome')\n",
    "\n",
    "\n",
    "    mybins = [0] + range(20, 80, 5) + [120]\n",
    "    age_bucket = create_bins(df, 'age', mybins)\n",
    "\n",
    "    visualize_by_group_mean(df, ['NumberOfDependents', 'SeriousDlqin2yrs'], 'NumberOfDependents')\n",
    "    visualize_by_group_mean(df, [age_bucket, \"SeriousDlqin2yrs\"], age_bucket)\n",
    "\n",
    "\n",
    "\n",
    "    new_col = scale_column(df, 'MonthlyIncome')\n",
    "\n",
    "\n",
    "    features = ['RevolvingUtilizationOfUnsecuredLines', \n",
    "                'age', 'NumberOfTime30-59DaysPastDueNotWorse', 'DebtRatio', 'MonthlyIncome',\n",
    "                'NumberOfOpenCreditLinesAndLoans', 'NumberOfTimes90DaysLate', \n",
    "                'NumberRealEstateLoansOrLines', \n",
    "                'NumberOfTime60-89DaysPastDueNotWorse', 'NumberOfDependents']\n",
    "\n",
    "    #features = features + [new_log_col] + [age_bucket]\n",
    "    features = features + [new_log_col] + [new_col]\n",
    "\n",
    "    label = 'SeriousDlqin2yrs'\n",
    "\n",
    "    # split train and test data\n",
    "    train, test = train_test_split(df, test_size = 0.2)\n",
    "\n",
    "    predicted_values = model_logistic(train, test, features, label)\n",
    "    print evaluate_model(test, label, predicted_values)\n",
    "\n",
    "\n",
    "    # FIND BEST MIX OF FEATURES\n",
    "\n",
    "    '''\n",
    "    Your task is to train one or more models on the training data and generate delinquency scores for the test data. \n",
    "    \n",
    "    to get bins to Number\n",
    "    df['income_bins'] = pd.cut(df.monthly_income, bins=15, labels=False)\n",
    "\n",
    "    '''\n",
    "if __name__==\"__main__\":\n",
    "    instructions = '''Usage: python workflow.py training_file'''\n",
    "\n",
    "    if(len(sys.argv) != 2):\n",
    "        print(instructions)\n",
    "        sys.exit()\n",
    "\n",
    "    training_file = sys.argv[1]\n",
    "\n",
    "    go(training_file)\n",
    "\n"
   ]
  },
  {
   "cell_type": "markdown",
   "metadata": {},
   "source": [
    "#  Dani Litovsky Alcala - ML ps2\n",
    "-----------------------------------"
   ]
  },
  {
   "cell_type": "markdown",
   "metadata": {
    "collapsed": true
   },
   "source": [
    "## Goal:  predict who will experience financial distress in the next two years"
   ]
  },
  {
   "cell_type": "code",
   "execution_count": 3,
   "metadata": {
    "collapsed": false
   },
   "outputs": [],
   "source": [
    "import pandas as pd\n",
    "pd.options.mode.chained_assignment = None  # default='warn'\n",
    "import numpy as np \n",
    "import matplotlib.pyplot as plt\n",
    "import pylab\n",
    "import sys\n",
    "import random\n",
    "from sklearn.linear_model import LogisticRegression\n",
    "from sklearn.metrics import accuracy_score\n",
    "from sklearn.cross_validation import train_test_split\n",
    "from sklearn.preprocessing import StandardScaler\n",
    "%matplotlib inline"
   ]
  },
  {
   "cell_type": "code",
   "execution_count": 4,
   "metadata": {
    "collapsed": true
   },
   "outputs": [],
   "source": [
    "file_name = 'cs-training.csv'\n",
    "df = pd.read_csv(file_name, header=0)"
   ]
  },
  {
   "cell_type": "markdown",
   "metadata": {},
   "source": [
    "Colomn names:"
   ]
  },
  {
   "cell_type": "code",
   "execution_count": 6,
   "metadata": {
    "collapsed": false
   },
   "outputs": [
    {
     "data": {
      "text/plain": [
       "array(['id', 'SeriousDlqin2yrs', 'RevolvingUtilizationOfUnsecuredLines',\n",
       "       'age', 'NumberOfTime30-59DaysPastDueNotWorse', 'DebtRatio',\n",
       "       'MonthlyIncome', 'NumberOfOpenCreditLinesAndLoans',\n",
       "       'NumberOfTimes90DaysLate', 'NumberRealEstateLoansOrLines',\n",
       "       'NumberOfTime60-89DaysPastDueNotWorse', 'NumberOfDependents'], dtype=object)"
      ]
     },
     "execution_count": 6,
     "metadata": {},
     "output_type": "execute_result"
    }
   ],
   "source": [
    "df.columns.values"
   ]
  },
  {
   "cell_type": "code",
   "execution_count": 41,
   "metadata": {
    "collapsed": false
   },
   "outputs": [
    {
     "data": {
      "text/plain": [
       "id                                      75000.500000\n",
       "SeriousDlqin2yrs                            0.066840\n",
       "RevolvingUtilizationOfUnsecuredLines        6.048438\n",
       "age                                        52.295207\n",
       "NumberOfTime30-59DaysPastDueNotWorse        0.421033\n",
       "DebtRatio                                 353.005076\n",
       "MonthlyIncome                            6670.221237\n",
       "NumberOfOpenCreditLinesAndLoans             8.452760\n",
       "NumberOfTimes90DaysLate                     0.265973\n",
       "NumberRealEstateLoansOrLines                1.018240\n",
       "NumberOfTime60-89DaysPastDueNotWorse        0.240387\n",
       "NumberOfDependents                          0.757222\n",
       "dtype: float64"
      ]
     },
     "execution_count": 41,
     "metadata": {},
     "output_type": "execute_result"
    }
   ],
   "source": [
    "df.mean()"
   ]
  },
  {
   "cell_type": "code",
   "execution_count": 43,
   "metadata": {
    "collapsed": false
   },
   "outputs": [
    {
     "data": {
      "text/plain": [
       "id                                    0       NaN\n",
       "SeriousDlqin2yrs                      0       0.0\n",
       "RevolvingUtilizationOfUnsecuredLines  0       0.0\n",
       "age                                   0      49.0\n",
       "NumberOfTime30-59DaysPastDueNotWorse  0       0.0\n",
       "DebtRatio                             0       0.0\n",
       "MonthlyIncome                         0    5000.0\n",
       "NumberOfOpenCreditLinesAndLoans       0       6.0\n",
       "NumberOfTimes90DaysLate               0       0.0\n",
       "NumberRealEstateLoansOrLines          0       0.0\n",
       "NumberOfTime60-89DaysPastDueNotWorse  0       0.0\n",
       "NumberOfDependents                    0       0.0\n",
       "dtype: float64"
      ]
     },
     "execution_count": 43,
     "metadata": {},
     "output_type": "execute_result"
    }
   ],
   "source": [
    "df.mode().unstack()"
   ]
  },
  {
   "cell_type": "code",
   "execution_count": 25,
   "metadata": {
    "collapsed": false
   },
   "outputs": [
    {
     "data": {
      "text/plain": [
       "id                                    id                                      1.000000\n",
       "                                      SeriousDlqin2yrs                        0.002801\n",
       "                                      RevolvingUtilizationOfUnsecuredLines    0.002372\n",
       "                                      age                                     0.004403\n",
       "                                      NumberOfTime30-59DaysPastDueNotWorse   -0.000571\n",
       "                                      DebtRatio                              -0.002906\n",
       "                                      MonthlyIncome                           0.002632\n",
       "                                      NumberOfOpenCreditLinesAndLoans         0.004586\n",
       "                                      NumberOfTimes90DaysLate                -0.001104\n",
       "                                      NumberRealEstateLoansOrLines           -0.000666\n",
       "                                      NumberOfTime60-89DaysPastDueNotWorse   -0.000777\n",
       "                                      NumberOfDependents                     -0.000055\n",
       "SeriousDlqin2yrs                      id                                      0.002801\n",
       "                                      SeriousDlqin2yrs                        1.000000\n",
       "                                      RevolvingUtilizationOfUnsecuredLines   -0.001802\n",
       "                                      age                                    -0.115386\n",
       "                                      NumberOfTime30-59DaysPastDueNotWorse    0.125587\n",
       "                                      DebtRatio                              -0.007602\n",
       "                                      MonthlyIncome                          -0.019746\n",
       "                                      NumberOfOpenCreditLinesAndLoans        -0.029669\n",
       "                                      NumberOfTimes90DaysLate                 0.117175\n",
       "                                      NumberRealEstateLoansOrLines           -0.007038\n",
       "                                      NumberOfTime60-89DaysPastDueNotWorse    0.102261\n",
       "                                      NumberOfDependents                      0.046048\n",
       "RevolvingUtilizationOfUnsecuredLines  id                                      0.002372\n",
       "                                      SeriousDlqin2yrs                       -0.001802\n",
       "                                      RevolvingUtilizationOfUnsecuredLines    1.000000\n",
       "                                      age                                    -0.005898\n",
       "                                      NumberOfTime30-59DaysPastDueNotWorse   -0.001314\n",
       "                                      DebtRatio                               0.003961\n",
       "                                                                                ...   \n",
       "NumberRealEstateLoansOrLines          MonthlyIncome                           0.124959\n",
       "                                      NumberOfOpenCreditLinesAndLoans         0.433959\n",
       "                                      NumberOfTimes90DaysLate                -0.045205\n",
       "                                      NumberRealEstateLoansOrLines            1.000000\n",
       "                                      NumberOfTime60-89DaysPastDueNotWorse   -0.039722\n",
       "                                      NumberOfDependents                      0.124684\n",
       "NumberOfTime60-89DaysPastDueNotWorse  id                                     -0.000777\n",
       "                                      SeriousDlqin2yrs                        0.102261\n",
       "                                      RevolvingUtilizationOfUnsecuredLines   -0.001048\n",
       "                                      age                                    -0.057159\n",
       "                                      NumberOfTime30-59DaysPastDueNotWorse    0.987005\n",
       "                                      DebtRatio                              -0.007533\n",
       "                                      MonthlyIncome                          -0.011116\n",
       "                                      NumberOfOpenCreditLinesAndLoans        -0.071077\n",
       "                                      NumberOfTimes90DaysLate                 0.992796\n",
       "                                      NumberRealEstateLoansOrLines           -0.039722\n",
       "                                      NumberOfTime60-89DaysPastDueNotWorse    1.000000\n",
       "                                      NumberOfDependents                     -0.010922\n",
       "NumberOfDependents                    id                                     -0.000055\n",
       "                                      SeriousDlqin2yrs                        0.046048\n",
       "                                      RevolvingUtilizationOfUnsecuredLines    0.001557\n",
       "                                      age                                    -0.213303\n",
       "                                      NumberOfTime30-59DaysPastDueNotWorse   -0.002680\n",
       "                                      DebtRatio                              -0.040673\n",
       "                                      MonthlyIncome                           0.062647\n",
       "                                      NumberOfOpenCreditLinesAndLoans         0.065322\n",
       "                                      NumberOfTimes90DaysLate                -0.010176\n",
       "                                      NumberRealEstateLoansOrLines            0.124684\n",
       "                                      NumberOfTime60-89DaysPastDueNotWorse   -0.010922\n",
       "                                      NumberOfDependents                      1.000000\n",
       "dtype: float64"
      ]
     },
     "execution_count": 25,
     "metadata": {},
     "output_type": "execute_result"
    }
   ],
   "source": [
    "df.corr().unstack()"
   ]
  },
  {
   "cell_type": "markdown",
   "metadata": {},
   "source": [
    "Monthly income and Number of dependents have missing values, which we will impute."
   ]
  },
  {
   "cell_type": "code",
   "execution_count": 11,
   "metadata": {
    "collapsed": false
   },
   "outputs": [
    {
     "data": {
      "text/plain": [
       "id                                          0\n",
       "SeriousDlqin2yrs                            0\n",
       "RevolvingUtilizationOfUnsecuredLines        0\n",
       "age                                         0\n",
       "NumberOfTime30-59DaysPastDueNotWorse        0\n",
       "DebtRatio                                   0\n",
       "MonthlyIncome                           29731\n",
       "NumberOfOpenCreditLinesAndLoans             0\n",
       "NumberOfTimes90DaysLate                     0\n",
       "NumberRealEstateLoansOrLines                0\n",
       "NumberOfTime60-89DaysPastDueNotWorse        0\n",
       "NumberOfDependents                       3924\n",
       "dtype: int64"
      ]
     },
     "execution_count": 11,
     "metadata": {},
     "output_type": "execute_result"
    }
   ],
   "source": [
    "df.isnull().sum()"
   ]
  },
  {
   "cell_type": "markdown",
   "metadata": {},
   "source": [
    "#### Some histograms to visualize the data"
   ]
  },
  {
   "cell_type": "code",
   "execution_count": 47,
   "metadata": {
    "collapsed": false
   },
   "outputs": [
    {
     "data": {
      "image/png": "[encoded data removed]",
      "text/plain": [
       "<matplotlib.figure.Figure at 0x117bcd590>"
      ]
     },
     "metadata": {},
     "output_type": "display_data"
    }
   ],
   "source": [
    "visualize_by_group_mean(df, ['NumberOfDependents', 'SeriousDlqin2yrs'], 'NumberOfDependents')\n"
   ]
  },
  {
   "cell_type": "code",
   "execution_count": 48,
   "metadata": {
    "collapsed": false
   },
   "outputs": [
    {
     "ename": "NameError",
     "evalue": "name 'age_bucket' is not defined",
     "output_type": "error",
     "traceback": [
      "\u001b[0;31m---------------------------------------------------------------------------\u001b[0m",
      "\u001b[0;31mNameError\u001b[0m                                 Traceback (most recent call last)",
      "\u001b[0;32m<ipython-input-48-083ea1466df0>\u001b[0m in \u001b[0;36m<module>\u001b[0;34m()\u001b[0m\n\u001b[0;32m----> 1\u001b[0;31m \u001b[0mvisualize_by_group_mean\u001b[0m\u001b[0;34m(\u001b[0m\u001b[0mdf\u001b[0m\u001b[0;34m,\u001b[0m \u001b[0;34m[\u001b[0m\u001b[0mage_bucket\u001b[0m\u001b[0;34m,\u001b[0m \u001b[0;34m\"SeriousDlqin2yrs\"\u001b[0m\u001b[0;34m]\u001b[0m\u001b[0;34m,\u001b[0m \u001b[0mage_bucket\u001b[0m\u001b[0;34m)\u001b[0m\u001b[0;34m\u001b[0m\u001b[0m\n\u001b[0m",
      "\u001b[0;31mNameError\u001b[0m: name 'age_bucket' is not defined"
     ]
    }
   ],
   "source": [
    "visualize_by_group_mean(df, [age_bucket, \"SeriousDlqin2yrs\"], age_bucket)"
   ]
  },
  {
   "cell_type": "markdown",
   "metadata": {},
   "source": [
    "##### I also chose to fill in missing data...."
   ]
  }
 ],
 "metadata": {
  "kernelspec": {
   "display_name": "Python 2",
   "language": "python",
   "name": "python2"
  },
  "language_info": {
   "codemirror_mode": {
    "name": "ipython",
    "version": 2
   },
   "file_extension": ".py",
   "mimetype": "text/x-python",
   "name": "python",
   "nbconvert_exporter": "python",
   "pygments_lexer": "ipython2",
   "version": "2.7.10"
  }
 },
 "nbformat": 4,
 "nbformat_minor": 0
}
