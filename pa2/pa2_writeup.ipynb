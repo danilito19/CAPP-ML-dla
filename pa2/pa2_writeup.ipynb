{
 "cells": [
  {
   "cell_type": "code",
   "execution_count": 1,
   "metadata": {
    "collapsed": false
   },
   "outputs": [
    {
     "data": {
      "text/html": [
       "<script>jQuery(function() {if (jQuery(\"body.notebook_app\").length == 0) { jQuery(\".input_area\").toggle(); jQuery(\".prompt\").toggle();}});</script>"
      ]
     },
     "metadata": {},
     "output_type": "display_data"
    }
   ],
   "source": [
    "import IPython.core.display as di\n",
    "\n",
    "from IPython.core.display import HTML\n",
    "HTML(\"<style>.container { width:10% !important; }</style>\")\n",
    "\n",
    "# This line will hide code by default when the notebook is exported as HTML\n",
    "di.display_html('<script>jQuery(function() {if (jQuery(\"body.notebook_app\").length == 0) { jQuery(\".input_area\").toggle(); jQuery(\".prompt\").toggle();}});</script>', raw=True)"
   ]
  },
  {
   "cell_type": "code",
   "execution_count": 12,
   "metadata": {
    "collapsed": false
   },
   "outputs": [
    {
     "name": "stderr",
     "output_type": "stream",
     "text": [
      "/Users/dani/Desktop/CAPP-ML-dla/mlenv/lib/python2.7/site-packages/sklearn/preprocessing/data.py:583: DeprecationWarning: Passing 1d arrays as data is deprecated in 0.17 and will raise ValueError in 0.19. Reshape your data either using X.reshape(-1, 1) if your data has a single feature or X.reshape(1, -1) if it contains a single sample.\n",
      "  warnings.warn(DEPRECATION_MSG_1D, DeprecationWarning)\n",
      "/Users/dani/Desktop/CAPP-ML-dla/mlenv/lib/python2.7/site-packages/sklearn/preprocessing/data.py:646: DeprecationWarning: Passing 1d arrays as data is deprecated in 0.17 and will raise ValueError in 0.19. Reshape your data either using X.reshape(-1, 1) if your data has a single feature or X.reshape(1, -1) if it contains a single sample.\n",
      "  warnings.warn(DEPRECATION_MSG_1D, DeprecationWarning)\n"
     ]
    },
    {
     "name": "stdout",
     "output_type": "stream",
     "text": [
      "0.931533333333\n"
     ]
    }
   ],
   "source": [
    "%run workflow.py 'cs-training.csv'"
   ]
  },
  {
   "cell_type": "markdown",
   "metadata": {},
   "source": [
    "#  Dani Litovsky Alcala - ML ps2\n",
    "-----------------------------------"
   ]
  },
  {
   "cell_type": "markdown",
   "metadata": {
    "collapsed": true
   },
   "source": [
    "## Goal:  predict who will experience financial distress in the next two years"
   ]
  },
  {
   "cell_type": "code",
   "execution_count": 4,
   "metadata": {
    "collapsed": false
   },
   "outputs": [],
   "source": [
    "import pandas as pd\n",
    "pd.options.mode.chained_assignment = None  # default='warn'\n",
    "import numpy as np \n",
    "import matplotlib.pyplot as plt\n",
    "import pylab\n",
    "import sys\n",
    "import random\n",
    "from sklearn.linear_model import LogisticRegression\n",
    "from sklearn.metrics import accuracy_score\n",
    "from sklearn.cross_validation import train_test_split\n",
    "from sklearn.preprocessing import StandardScaler\n",
    "%matplotlib inline"
   ]
  },
  {
   "cell_type": "code",
   "execution_count": 5,
   "metadata": {
    "collapsed": false
   },
   "outputs": [],
   "source": [
    "file_name = 'cs-training.csv'\n",
    "df = pd.read_csv(file_name, header=0)"
   ]
  },
  {
   "cell_type": "code",
   "execution_count": 15,
   "metadata": {
    "collapsed": false
   },
   "outputs": [
    {
     "data": {
      "text/plain": [
       "0.0"
      ]
     },
     "execution_count": 15,
     "metadata": {},
     "output_type": "execute_result"
    }
   ],
   "source": [
    "df['NumberOfDependents'].median()"
   ]
  },
  {
   "cell_type": "code",
   "execution_count": 12,
   "metadata": {
    "collapsed": false
   },
   "outputs": [
    {
     "ename": "SyntaxError",
     "evalue": "unexpected EOF while parsing (<ipython-input-12-273b1b594de2>, line 1)",
     "output_type": "error",
     "traceback": [
      "\u001b[0;36m  File \u001b[0;32m\"<ipython-input-12-273b1b594de2>\"\u001b[0;36m, line \u001b[0;32m1\u001b[0m\n\u001b[0;31m    pd.value_counts(df['MonthlyIncome'].max()\u001b[0m\n\u001b[0m                                             ^\u001b[0m\n\u001b[0;31mSyntaxError\u001b[0m\u001b[0;31m:\u001b[0m unexpected EOF while parsing\n"
     ]
    }
   ],
   "source": [
    "pd.value_counts(df['MonthlyIncome'], sort=True, ascending=True)"
   ]
  },
  {
   "cell_type": "markdown",
   "metadata": {},
   "source": [
    "Colomn names:"
   ]
  },
  {
   "cell_type": "code",
   "execution_count": 6,
   "metadata": {
    "collapsed": false
   },
   "outputs": [
    {
     "data": {
      "text/plain": [
       "array(['id', 'SeriousDlqin2yrs', 'RevolvingUtilizationOfUnsecuredLines',\n",
       "       'age', 'NumberOfTime30-59DaysPastDueNotWorse', 'DebtRatio',\n",
       "       'MonthlyIncome', 'NumberOfOpenCreditLinesAndLoans',\n",
       "       'NumberOfTimes90DaysLate', 'NumberRealEstateLoansOrLines',\n",
       "       'NumberOfTime60-89DaysPastDueNotWorse', 'NumberOfDependents'], dtype=object)"
      ]
     },
     "execution_count": 6,
     "metadata": {},
     "output_type": "execute_result"
    }
   ],
   "source": [
    "df.columns.values"
   ]
  },
  {
   "cell_type": "code",
   "execution_count": 7,
   "metadata": {
    "collapsed": false
   },
   "outputs": [
    {
     "data": {
      "text/plain": [
       "id                                      75000.500000\n",
       "SeriousDlqin2yrs                            0.066840\n",
       "RevolvingUtilizationOfUnsecuredLines        6.048438\n",
       "age                                        52.295207\n",
       "NumberOfTime30-59DaysPastDueNotWorse        0.421033\n",
       "DebtRatio                                 353.005076\n",
       "MonthlyIncome                            6670.221237\n",
       "NumberOfOpenCreditLinesAndLoans             8.452760\n",
       "NumberOfTimes90DaysLate                     0.265973\n",
       "NumberRealEstateLoansOrLines                1.018240\n",
       "NumberOfTime60-89DaysPastDueNotWorse        0.240387\n",
       "NumberOfDependents                          0.757222\n",
       "dtype: float64"
      ]
     },
     "execution_count": 7,
     "metadata": {},
     "output_type": "execute_result"
    }
   ],
   "source": [
    "df.mean()"
   ]
  },
  {
   "cell_type": "code",
   "execution_count": 8,
   "metadata": {
    "collapsed": false
   },
   "outputs": [
    {
     "data": {
      "text/plain": [
       "id                                    0       NaN\n",
       "SeriousDlqin2yrs                      0       0.0\n",
       "RevolvingUtilizationOfUnsecuredLines  0       0.0\n",
       "age                                   0      49.0\n",
       "NumberOfTime30-59DaysPastDueNotWorse  0       0.0\n",
       "DebtRatio                             0       0.0\n",
       "MonthlyIncome                         0    5000.0\n",
       "NumberOfOpenCreditLinesAndLoans       0       6.0\n",
       "NumberOfTimes90DaysLate               0       0.0\n",
       "NumberRealEstateLoansOrLines          0       0.0\n",
       "NumberOfTime60-89DaysPastDueNotWorse  0       0.0\n",
       "NumberOfDependents                    0       0.0\n",
       "dtype: float64"
      ]
     },
     "execution_count": 8,
     "metadata": {},
     "output_type": "execute_result"
    }
   ],
   "source": [
    "df.mode().unstack()"
   ]
  },
  {
   "cell_type": "code",
   "execution_count": 9,
   "metadata": {
    "collapsed": false
   },
   "outputs": [
    {
     "data": {
      "text/plain": [
       "id                                    id                                      1.000000\n",
       "                                      SeriousDlqin2yrs                        0.002801\n",
       "                                      RevolvingUtilizationOfUnsecuredLines    0.002372\n",
       "                                      age                                     0.004403\n",
       "                                      NumberOfTime30-59DaysPastDueNotWorse   -0.000571\n",
       "                                      DebtRatio                              -0.002906\n",
       "                                      MonthlyIncome                           0.002632\n",
       "                                      NumberOfOpenCreditLinesAndLoans         0.004586\n",
       "                                      NumberOfTimes90DaysLate                -0.001104\n",
       "                                      NumberRealEstateLoansOrLines           -0.000666\n",
       "                                      NumberOfTime60-89DaysPastDueNotWorse   -0.000777\n",
       "                                      NumberOfDependents                     -0.000055\n",
       "SeriousDlqin2yrs                      id                                      0.002801\n",
       "                                      SeriousDlqin2yrs                        1.000000\n",
       "                                      RevolvingUtilizationOfUnsecuredLines   -0.001802\n",
       "                                      age                                    -0.115386\n",
       "                                      NumberOfTime30-59DaysPastDueNotWorse    0.125587\n",
       "                                      DebtRatio                              -0.007602\n",
       "                                      MonthlyIncome                          -0.019746\n",
       "                                      NumberOfOpenCreditLinesAndLoans        -0.029669\n",
       "                                      NumberOfTimes90DaysLate                 0.117175\n",
       "                                      NumberRealEstateLoansOrLines           -0.007038\n",
       "                                      NumberOfTime60-89DaysPastDueNotWorse    0.102261\n",
       "                                      NumberOfDependents                      0.046048\n",
       "RevolvingUtilizationOfUnsecuredLines  id                                      0.002372\n",
       "                                      SeriousDlqin2yrs                       -0.001802\n",
       "                                      RevolvingUtilizationOfUnsecuredLines    1.000000\n",
       "                                      age                                    -0.005898\n",
       "                                      NumberOfTime30-59DaysPastDueNotWorse   -0.001314\n",
       "                                      DebtRatio                               0.003961\n",
       "                                                                                ...   \n",
       "NumberRealEstateLoansOrLines          MonthlyIncome                           0.124959\n",
       "                                      NumberOfOpenCreditLinesAndLoans         0.433959\n",
       "                                      NumberOfTimes90DaysLate                -0.045205\n",
       "                                      NumberRealEstateLoansOrLines            1.000000\n",
       "                                      NumberOfTime60-89DaysPastDueNotWorse   -0.039722\n",
       "                                      NumberOfDependents                      0.124684\n",
       "NumberOfTime60-89DaysPastDueNotWorse  id                                     -0.000777\n",
       "                                      SeriousDlqin2yrs                        0.102261\n",
       "                                      RevolvingUtilizationOfUnsecuredLines   -0.001048\n",
       "                                      age                                    -0.057159\n",
       "                                      NumberOfTime30-59DaysPastDueNotWorse    0.987005\n",
       "                                      DebtRatio                              -0.007533\n",
       "                                      MonthlyIncome                          -0.011116\n",
       "                                      NumberOfOpenCreditLinesAndLoans        -0.071077\n",
       "                                      NumberOfTimes90DaysLate                 0.992796\n",
       "                                      NumberRealEstateLoansOrLines           -0.039722\n",
       "                                      NumberOfTime60-89DaysPastDueNotWorse    1.000000\n",
       "                                      NumberOfDependents                     -0.010922\n",
       "NumberOfDependents                    id                                     -0.000055\n",
       "                                      SeriousDlqin2yrs                        0.046048\n",
       "                                      RevolvingUtilizationOfUnsecuredLines    0.001557\n",
       "                                      age                                    -0.213303\n",
       "                                      NumberOfTime30-59DaysPastDueNotWorse   -0.002680\n",
       "                                      DebtRatio                              -0.040673\n",
       "                                      MonthlyIncome                           0.062647\n",
       "                                      NumberOfOpenCreditLinesAndLoans         0.065322\n",
       "                                      NumberOfTimes90DaysLate                -0.010176\n",
       "                                      NumberRealEstateLoansOrLines            0.124684\n",
       "                                      NumberOfTime60-89DaysPastDueNotWorse   -0.010922\n",
       "                                      NumberOfDependents                      1.000000\n",
       "dtype: float64"
      ]
     },
     "execution_count": 9,
     "metadata": {},
     "output_type": "execute_result"
    }
   ],
   "source": [
    "df.corr().unstack()"
   ]
  },
  {
   "cell_type": "markdown",
   "metadata": {},
   "source": [
    "Monthly income and Number of dependents have missing values, which we will impute. To deal with this issue, I investigated which best method would work best to impute. Generally, the mean would not work best in either of these situations as the mean would be sensitive to outliers."
   ]
  },
  {
   "cell_type": "code",
   "execution_count": 11,
   "metadata": {
    "collapsed": false
   },
   "outputs": [
    {
     "data": {
      "text/plain": [
       "id                                          0\n",
       "SeriousDlqin2yrs                            0\n",
       "RevolvingUtilizationOfUnsecuredLines        0\n",
       "age                                         0\n",
       "NumberOfTime30-59DaysPastDueNotWorse        0\n",
       "DebtRatio                                   0\n",
       "MonthlyIncome                           29731\n",
       "NumberOfOpenCreditLinesAndLoans             0\n",
       "NumberOfTimes90DaysLate                     0\n",
       "NumberRealEstateLoansOrLines                0\n",
       "NumberOfTime60-89DaysPastDueNotWorse        0\n",
       "NumberOfDependents                       3924\n",
       "dtype: int64"
      ]
     },
     "execution_count": 11,
     "metadata": {},
     "output_type": "execute_result"
    }
   ],
   "source": [
    "df.isnull().sum()"
   ]
  },
  {
   "cell_type": "markdown",
   "metadata": {},
   "source": [
    "For Number of dependents, I recognized that most people did not have dependents, so I chose to impute the missing values with 0 dependents."
   ]
  },
  {
   "cell_type": "code",
   "execution_count": 8,
   "metadata": {
    "collapsed": false
   },
   "outputs": [
    {
     "ename": "NameError",
     "evalue": "name 'print_value_counts' is not defined",
     "output_type": "error",
     "traceback": [
      "\u001b[0;31m---------------------------------------------------------------------------\u001b[0m",
      "\u001b[0;31mNameError\u001b[0m                                 Traceback (most recent call last)",
      "\u001b[0;32m<ipython-input-8-050f1043bb72>\u001b[0m in \u001b[0;36m<module>\u001b[0;34m()\u001b[0m\n\u001b[0;32m----> 1\u001b[0;31m \u001b[0mprint_value_counts\u001b[0m\u001b[0;34m(\u001b[0m\u001b[0mdf\u001b[0m\u001b[0;34m,\u001b[0m \u001b[0;34m'MonthlyIncome'\u001b[0m\u001b[0;34m)\u001b[0m\u001b[0;34m\u001b[0m\u001b[0m\n\u001b[0m",
      "\u001b[0;31mNameError\u001b[0m: name 'print_value_counts' is not defined"
     ]
    }
   ],
   "source": [
    "print_value_counts(df, 'MonthlyIncome')"
   ]
  },
  {
   "cell_type": "markdown",
   "metadata": {},
   "source": [
    "As for monthly income, I decided to impute the data with the median, which is less sensitive to the large monthly income outliers."
   ]
  },
  {
   "cell_type": "code",
   "execution_count": 26,
   "metadata": {
    "collapsed": false
   },
   "outputs": [
    {
     "name": "stdout",
     "output_type": "stream",
     "text": [
      "monthly income median is:  5400.0\n",
      "monthly income mean is:  6670.22123739\n"
     ]
    }
   ],
   "source": [
    "print 'monthly income median is: ', df['MonthlyIncome'].median()\n",
    "print 'monthly income mean is: ', df['MonthlyIncome'].mean()"
   ]
  },
  {
   "cell_type": "markdown",
   "metadata": {},
   "source": [
    "#### To better understand the data, I created bins, or buckets, for income and age, which are graphed bellow. "
   ]
  },
  {
   "cell_type": "code",
   "execution_count": 29,
   "metadata": {
    "collapsed": false
   },
   "outputs": [
    {
     "name": "stdout",
     "output_type": "stream",
     "text": [
      "age bins: \n",
      "(45, 50]     18829\n",
      "(50, 55]     17861\n",
      "(55, 60]     16945\n",
      "(60, 65]     16461\n",
      "(40, 45]     16208\n",
      "(35, 40]     13611\n",
      "(65, 70]     10963\n",
      "(30, 35]     10728\n",
      "(75, 120]    10129\n",
      "(25, 30]      7730\n",
      "(70, 75]      7507\n",
      "(20, 25]      3027\n",
      "(0, 20]          0\n",
      "dtype: int64\n"
     ]
    }
   ],
   "source": [
    "print 'age bins: '\n",
    "print_value_counts(df, age_bucket)"
   ]
  },
  {
   "cell_type": "code",
   "execution_count": 30,
   "metadata": {
    "collapsed": false
   },
   "outputs": [
    {
     "name": "stdout",
     "output_type": "stream",
     "text": [
      "income bins: \n",
      "(9000, 3008750]    24320\n",
      "(4000, 5000]       15461\n",
      "(3000, 4000]       15314\n",
      "(5000, 6000]       13215\n",
      "(2000, 3000]       13081\n",
      "(6000, 7000]       10720\n",
      "(7000, 8000]        9024\n",
      "(1000, 2000]        7208\n",
      "(8000, 9000]        7131\n",
      "(0, 1000]           3161\n",
      "dtype: int64\n"
     ]
    }
   ],
   "source": [
    "print 'income bins: '\n",
    "print_value_counts(df, income_bucket)"
   ]
  },
  {
   "cell_type": "markdown",
   "metadata": {},
   "source": [
    "#### Some histograms to visualize the data\n",
    "These graphs plot a particular variable or variable bin to the mean of SeriousDlqin2yrs."
   ]
  },
  {
   "cell_type": "markdown",
   "metadata": {},
   "source": [
    "The graph shows that SeriousDlqin2yrs rises with more dependants, peaks around 7 dependants, and sharply drops after 9 dependants."
   ]
  },
  {
   "cell_type": "code",
   "execution_count": 47,
   "metadata": {
    "collapsed": false
   },
   "outputs": [
    {
     "data": {
      "image/png": "[encoded data removed]",
      "text/plain": [
       "<matplotlib.figure.Figure at 0x117bcd590>"
      ]
     },
     "metadata": {},
     "output_type": "display_data"
    }
   ],
   "source": [
    "visualize_by_group_mean(df, ['NumberOfDependents', 'SeriousDlqin2yrs'], 'NumberOfDependents')\n"
   ]
  },
  {
   "cell_type": "code",
   "execution_count": 15,
   "metadata": {
    "collapsed": true
   },
   "outputs": [],
   "source": [
    "age_bins = [0] + range(20, 80, 5) + [120]\n",
    "age_bucket = create_bins(df, 'age', age_bins)"
   ]
  },
  {
   "cell_type": "markdown",
   "metadata": {},
   "source": [
    "This graph plots age bins to SeriousDlqin2yrs. It is very interesting that SeriousDlqin2yrs is highest among young people, and it drops off as people get older."
   ]
  },
  {
   "cell_type": "code",
   "execution_count": 17,
   "metadata": {
    "collapsed": false
   },
   "outputs": [
    {
     "data": {
      "image/png": "[encoded data removed]",
      "text/plain": [
       "<matplotlib.figure.Figure at 0x102b18810>"
      ]
     },
     "metadata": {},
     "output_type": "display_data"
    }
   ],
   "source": [
    "visualize_by_group_mean(df, [age_bucket, \"SeriousDlqin2yrs\"], age_bucket)\n"
   ]
  },
  {
   "cell_type": "code",
   "execution_count": 19,
   "metadata": {
    "collapsed": true
   },
   "outputs": [],
   "source": [
    "income_bins = range(0, 10000, 1000) + [df['MonthlyIncome'].max()]\n",
    "income_bucket = create_bins(df, 'MonthlyIncome', income_bins)"
   ]
  },
  {
   "cell_type": "markdown",
   "metadata": {},
   "source": [
    "Monthly income buckets show that those who are more likely to have serious issues with debt are those with monthly incomes between 1000 and 2000. "
   ]
  },
  {
   "cell_type": "code",
   "execution_count": 20,
   "metadata": {
    "collapsed": false
   },
   "outputs": [
    {
     "data": {
      "image/png": "[encoded data removed]",
      "text/plain": [
       "<matplotlib.figure.Figure at 0x108001110>"
      ]
     },
     "metadata": {},
     "output_type": "display_data"
    }
   ],
   "source": [
    "visualize_by_group_mean(df, [income_bucket, \"SeriousDlqin2yrs\"], income_bucket)"
   ]
  },
  {
   "cell_type": "markdown",
   "metadata": {},
   "source": [
    "### Creating and Evaluating a model"
   ]
  },
  {
   "cell_type": "markdown",
   "metadata": {},
   "source": [
    "I chose to work with a logistic regression model to predict who could experience 90 days past due delinquency or worse  "
   ]
  },
  {
   "cell_type": "markdown",
   "metadata": {},
   "source": [
    "I tested my model's accuracy and looked for variables that improved accuracy. Instead of testing a model with various features one at a time, I chose to use a method called recursive feature selection, which will find the best features to predict data by recursively considering smaller and smaller sets of features."
   ]
  },
  {
   "cell_type": "markdown",
   "metadata": {},
   "source": [
    "#### CONCLUSION:"
   ]
  },
  {
   "cell_type": "markdown",
   "metadata": {},
   "source": [
    "With features .... I was able to predict ..."
   ]
  },
  {
   "cell_type": "code",
   "execution_count": null,
   "metadata": {
    "collapsed": true
   },
   "outputs": [],
   "source": []
  }
 ],
 "metadata": {
  "kernelspec": {
   "display_name": "Python 2",
   "language": "python",
   "name": "python2"
  },
  "language_info": {
   "codemirror_mode": {
    "name": "ipython",
    "version": 2
   },
   "file_extension": ".py",
   "mimetype": "text/x-python",
   "name": "python",
   "nbconvert_exporter": "python",
   "pygments_lexer": "ipython2",
   "version": "2.7.10"
  }
 },
 "nbformat": 4,
 "nbformat_minor": 0
}
